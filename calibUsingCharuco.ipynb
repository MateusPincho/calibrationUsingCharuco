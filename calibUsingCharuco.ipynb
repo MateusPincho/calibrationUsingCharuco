{
 "cells": [
  {
   "cell_type": "markdown",
   "id": "421f1550",
   "metadata": {},
   "source": [
    "## Configure the code\n",
    "- Import the libraries and configure the dictionary "
   ]
  },
  {
   "cell_type": "code",
   "execution_count": 7,
   "id": "e5c95779",
   "metadata": {},
   "outputs": [],
   "source": [
    "import glob\n",
    "import cv2 \n",
    "from cv2 import aruco \n",
    "import numpy as np\n",
    "import matplotlib.pyplot as plt\n",
    "import matplotlib as mpl\n",
    "\n",
    "arucoDict = cv2.aruco.Dictionary_get(aruco.DICT_6X6_250)"
   ]
  },
  {
   "cell_type": "markdown",
   "id": "cc67e64a",
   "metadata": {},
   "source": [
    "## Create the Charuco board"
   ]
  },
  {
   "cell_type": "code",
   "execution_count": 8,
   "id": "95a3d62b",
   "metadata": {
    "scrolled": true
   },
   "outputs": [
    {
     "data": {
      "image/png": "[encoded data removed]",
      "text/plain": [
       "<Figure size 432x288 with 1 Axes>"
      ]
     },
     "metadata": {
      "needs_background": "light"
     },
     "output_type": "display_data"
    }
   ],
   "source": [
    "board = aruco.CharucoBoard_create(11, 8, 1, .8, arucoDict)\n",
    "myboard = board.draw((2000, 2000))\n",
    "\n",
    "#Show the board\n",
    "fig = plt.figure()\n",
    "ax = fig.add_subplot(1,1,1)\n",
    "plt.imshow(myboard, cmap = mpl.cm.gray, interpolation = \"nearest\")\n",
    "ax.axis(\"off\")\n",
    "plt.show()\n",
    "\n",
    "#Save the board\n",
    "#cv2.imwrite(\"charuco.tiff\", myboard)"
   ]
  },
  {
   "cell_type": "markdown",
   "id": "bd6e946e",
   "metadata": {},
   "source": [
    "## After create the image, we need to take pictures of it\n",
    "- Make sure that you take a lot of images with differents angles\n",
    "- It's important that you have a light source behind your camera\n",
    "- The pattern must cover most of the image (at least a half)\n",
    "\n",
    "### Now import the images to the code"
   ]
  },
  {
   "cell_type": "code",
   "execution_count": 9,
   "id": "31692aec",
   "metadata": {},
   "outputs": [
    {
     "name": "stdout",
     "output_type": "stream",
     "text": [
      "Images uploaded\n"
     ]
    }
   ],
   "source": [
    "images = glob.glob(\"patternsImages/*jpg\")\n",
    "print(\"Images uploaded\")"
   ]
  },
  {
   "cell_type": "markdown",
   "id": "b31c6ad7",
   "metadata": {},
   "source": [
    "## Fuction to detect the charuto corners"
   ]
  },
  {
   "cell_type": "code",
   "execution_count": 10,
   "id": "30c1c0c9",
   "metadata": {},
   "outputs": [],
   "source": [
    "def detectCharucoCorners(images):\n",
    "    allCorners = []\n",
    "    allIds = []\n",
    "    decimator = 0\n",
    "    #subpixel corner detection criteria\n",
    "    criteria = (cv2.TERM_CRITERIA_EPS + cv2.TERM_CRITERIA_MAX_ITER, 100, 0.00001)\n",
    "    \n",
    "    for image in images:\n",
    "        print(\"=> Processing image {0}\".format(image))\n",
    "        frame = cv2.imread(image)\n",
    "        grayFrame = cv2.cvtColor(frame, cv2.COLOR_BGR2GRAY)\n",
    "        corners, ids, rejectedImgPoints = cv2.aruco.detectMarkers(grayFrame, arucoDict)\n",
    "        \n",
    "        # if the corners are valid \n",
    "        if len(corners)>0:\n",
    "            for corner in corners:\n",
    "                # do the subpixel detection\n",
    "                cv2.cornerSubPix(grayFrame, corner, winSize = (3,3), zeroZone = (-1,-1), criteria = criteria)\n",
    "            \n",
    "            # returns the 2D position of the chessboard corners from a ChArUco board using the detected Aruco markers\n",
    "            interpolatedCorners = cv2.aruco.interpolateCornersCharuco(corners, ids, grayFrame, board)\n",
    "            if interpolatedCorners[1] is not None and interpolatedCorners[2] is not None and len(interpolatedCorners[1]>3) and decimator%1==0:\n",
    "                allCorners.append(interpolatedCorners[1])\n",
    "                allIds.append(interpolatedCorners[2])\n",
    "        decimator += 1\n",
    "        \n",
    "    imageSize = grayFrame.shape\n",
    "    print(\"Corners are detected successfully!\")\n",
    "    \n",
    "    return allCorners, allIds, imageSize\n",
    "    "
   ]
  },
  {
   "cell_type": "markdown",
   "id": "6b65d540",
   "metadata": {},
   "source": [
    "## Function to calibrate the camera"
   ]
  },
  {
   "cell_type": "code",
   "execution_count": 18,
   "id": "3cf2af8f",
   "metadata": {},
   "outputs": [],
   "source": [
    "def calibrateCameraUsingCharuco(allCorners, allIds, imageSize):\n",
    "    print(\"STARTING CAMERA CALIBRATION\")\n",
    "    \n",
    "    initialCameraMatrix = np.array([[ 1000.,    0., imageSize[0]/2.],\n",
    "                                 [    0., 1000., imageSize[1]/2.],\n",
    "                                 [    0.,    0.,           1.]])\n",
    "    initialDistCoeffs = np.zeros((5,1))\n",
    "    \n",
    "    flags = (cv2.CALIB_USE_INTRINSIC_GUESS + cv2.CALIB_RATIONAL_MODEL + cv2.CALIB_FIX_ASPECT_RATIO)\n",
    "    criteria = (cv2.TERM_CRITERIA_EPS & cv2.TERM_CRITERIA_COUNT, 10000, 1e-9)\n",
    "    \n",
    "    (ret, cameraMatrix, distortionCoefficients , rotationVectors, translationVectors, \n",
    "    stdDevIntrisics, stdDevExtrinsics, reprojectionError)  = cv2.aruco.calibrateCameraCharucoExtended(charucoCorners = allCorners,\n",
    "                                                                                                      charucoIds = allIds,\n",
    "                                                                                                      board = board,\n",
    "                                                                                                      imageSize = imageSize,\n",
    "                                                                                                      cameraMatrix = initialCameraMatrix,\n",
    "                                                                                                      distCoeffs = initialDistCoeffs,\n",
    "                                                                                                      flags = flags,\n",
    "                                                                                                      criteria = criteria)\n",
    "    print(\"CALIBRATION PROCESS DONE!\")\n",
    "    return ret, cameraMatrix, distortionCoefficients, rotationVectors, translationVectors, reprojectionError\n",
    "    \n",
    "    \n",
    "    \n",
    "    \n",
    "    \n",
    "    \n",
    "    "
   ]
  },
  {
   "cell_type": "markdown",
   "id": "18fe75d2",
   "metadata": {},
   "source": [
    "### Now, we can detect the markers and his corners \n",
    "- After this, the we'll have all we need to start the calibration"
   ]
  },
  {
   "cell_type": "code",
   "execution_count": 12,
   "id": "04a7956e",
   "metadata": {},
   "outputs": [
    {
     "name": "stdout",
     "output_type": "stream",
     "text": [
      "=> Processing image patternsImages\\calibImg01.jpg\n",
      "=> Processing image patternsImages\\calibImg02.jpg\n",
      "=> Processing image patternsImages\\calibImg03.jpg\n",
      "=> Processing image patternsImages\\calibImg04.jpg\n",
      "=> Processing image patternsImages\\calibImg05.jpg\n",
      "=> Processing image patternsImages\\calibImg06.jpg\n",
      "=> Processing image patternsImages\\calibImg07.jpg\n",
      "=> Processing image patternsImages\\calibImg08.jpg\n",
      "=> Processing image patternsImages\\calibImg09.jpg\n",
      "=> Processing image patternsImages\\calibImg10.jpg\n",
      "=> Processing image patternsImages\\calibImg11.jpg\n",
      "=> Processing image patternsImages\\calibImg12.jpg\n",
      "=> Processing image patternsImages\\calibImg13.jpg\n",
      "=> Processing image patternsImages\\calibImg14.jpg\n",
      "Corners are detected successfully!\n"
     ]
    }
   ],
   "source": [
    "allCorners, allIds, imageSize = detectCharucoCorners(images)"
   ]
  },
  {
   "cell_type": "code",
   "execution_count": 21,
   "id": "b07e3588",
   "metadata": {
    "collapsed": true
   },
   "outputs": [
    {
     "name": "stdout",
     "output_type": "stream",
     "text": [
      "STARTING CAMERA CALIBRATION\n",
      "CALIBRATION PROCESS DONE!\n"
     ]
    },
    {
     "data": {
      "text/plain": [
       "array([[1.47187952e+03, 0.00000000e+00, 7.00214048e+02],\n",
       "       [0.00000000e+00, 1.47187952e+03, 3.10437811e+02],\n",
       "       [0.00000000e+00, 0.00000000e+00, 1.00000000e+00]])"
      ]
     },
     "execution_count": 21,
     "metadata": {},
     "output_type": "execute_result"
    }
   ],
   "source": [
    "ret, cameraMatrix, distCoefficients, rotationVecs, translationVecs, reprojectionError = calibrateCameraUsingCharuco(allCorners, allIds, imageSize)\n"
   ]
  },
  {
   "cell_type": "markdown",
   "id": "27c336fc",
   "metadata": {},
   "source": [
    "#### Camera Matrix:"
   ]
  },
  {
   "cell_type": "code",
   "execution_count": 27,
   "id": "d7562ec0",
   "metadata": {
    "scrolled": true
   },
   "outputs": [
    {
     "data": {
      "text/plain": [
       "array([[1.47187952e+03, 0.00000000e+00, 7.00214048e+02],\n",
       "       [0.00000000e+00, 1.47187952e+03, 3.10437811e+02],\n",
       "       [0.00000000e+00, 0.00000000e+00, 1.00000000e+00]])"
      ]
     },
     "execution_count": 27,
     "metadata": {},
     "output_type": "execute_result"
    }
   ],
   "source": [
    "cameraMatrix"
   ]
  },
  {
   "cell_type": "markdown",
   "id": "50233e98",
   "metadata": {},
   "source": [
    "#### Re-projection error:\n",
    "- \"ret\" = the mean re-projection error\n",
    "- \"reprojectionError\" = vector that contains the error of all images\n"
   ]
  },
  {
   "cell_type": "code",
   "execution_count": 24,
   "id": "b482d2df",
   "metadata": {},
   "outputs": [
    {
     "data": {
      "text/plain": [
       "0.5679860292288063"
      ]
     },
     "execution_count": 24,
     "metadata": {},
     "output_type": "execute_result"
    }
   ],
   "source": [
    "ret "
   ]
  },
  {
   "cell_type": "code",
   "execution_count": 28,
   "id": "fac0736a",
   "metadata": {
    "scrolled": false
   },
   "outputs": [
    {
     "data": {
      "text/plain": [
       "array([[0.43104837],\n",
       "       [0.71876092],\n",
       "       [0.46967368],\n",
       "       [0.67475693],\n",
       "       [0.78061067],\n",
       "       [0.47084912],\n",
       "       [0.52466702],\n",
       "       [0.4105172 ],\n",
       "       [0.48190515],\n",
       "       [0.51152328],\n",
       "       [0.55011419],\n",
       "       [0.46858363],\n",
       "       [0.68556347],\n",
       "       [0.61422282]])"
      ]
     },
     "execution_count": 28,
     "metadata": {},
     "output_type": "execute_result"
    }
   ],
   "source": [
    "reprojectionError"
   ]
  },
  {
   "cell_type": "markdown",
   "id": "fed36d57",
   "metadata": {},
   "source": [
    "#### Distortion Parameters"
   ]
  },
  {
   "cell_type": "code",
   "execution_count": 25,
   "id": "46c1b6c5",
   "metadata": {},
   "outputs": [
    {
     "data": {
      "text/plain": [
       "array([[-1.01179803e+01],\n",
       "       [ 1.49230858e+02],\n",
       "       [-9.96330317e-03],\n",
       "       [ 1.24594214e-02],\n",
       "       [ 1.40580135e+02],\n",
       "       [-1.01999426e+01],\n",
       "       [ 1.49545840e+02],\n",
       "       [ 1.23627101e+02],\n",
       "       [ 0.00000000e+00],\n",
       "       [ 0.00000000e+00],\n",
       "       [ 0.00000000e+00],\n",
       "       [ 0.00000000e+00],\n",
       "       [ 0.00000000e+00],\n",
       "       [ 0.00000000e+00]])"
      ]
     },
     "execution_count": 25,
     "metadata": {},
     "output_type": "execute_result"
    }
   ],
   "source": [
    "distCoefficients"
   ]
  },
  {
   "cell_type": "markdown",
   "id": "6333664a",
   "metadata": {},
   "source": [
    "### To see if its works\n",
    "- Draw the detected corners in the Charuco:"
   ]
  },
  {
   "cell_type": "code",
   "execution_count": 49,
   "id": "02afc0a7",
   "metadata": {
    "collapsed": true
   },
   "outputs": [
    {
     "data": {
      "text/plain": [
       "'# if the corners are valid \\nif len(corners) > 0 :\\n    for corner in corners:\\n        # do the subpixel detection\\n        cv2.cornerSubPix(grayFrame, corner, winSize = (3,3), zeroZone = (-1,-1), criteria = criteria)\\n            \\n    # returns the 2D position of the chessboard corners from a ChArUco board using the detected Aruco markers\\n    interpolatedCorners = cv2.aruco.interpolateCornersCharuco(corners, ids, grayFrame, board)\\n    if interpolatedCorners[1] is not None and interpolatedCorners[2] is not None and len(interpolatedCorners[1]>3) and decimator%1==0:\\n        allCorners.append(interpolatedCorners[1])\\n        allIds.append(interpolatedCorners[2])\\n    decimator += 1\\n\\nimageCorners = np.array(allCorners)            \\noutputImage = cv2.aruco.drawDetectedCornersCharuco(grayFrame, allCorners, allIds)\\n'"
      ]
     },
     "execution_count": 49,
     "metadata": {},
     "output_type": "execute_result"
    }
   ],
   "source": [
    "criteria = (cv2.TERM_CRITERIA_EPS + cv2.TERM_CRITERIA_MAX_ITER, 100, 0.00001)\n",
    "decimator = 0\n",
    "\n",
    "allCorners = []\n",
    "allIds = []\n",
    "\n",
    "testImage = cv2.imread(\"patternsImages/calibImg01.jpg\")\n",
    "grayFrame = cv2.cvtColor(testImage, cv2.COLOR_BGR2GRAY)\n",
    "corners, ids, rejectedImgPoints = cv2.aruco.detectMarkers(grayFrame, arucoDict)\n",
    "\n",
    "imageWithMarkers = cv2.aruco.drawDetectedMarkers(grayFrame,corners, ids)\n",
    "\n",
    "#Show the image with OpenCV\n",
    "cv2.imshow(\"testImage\", imageWithMarkers)\n",
    "cv2.waitKey(0)\n",
    "cv2.destroyAllWindows()\n",
    "        \n",
    "'''# if the corners are valid \n",
    "if len(corners) > 0 :\n",
    "    for corner in corners:\n",
    "        # do the subpixel detection\n",
    "        cv2.cornerSubPix(grayFrame, corner, winSize = (3,3), zeroZone = (-1,-1), criteria = criteria)\n",
    "            \n",
    "    # returns the 2D position of the chessboard corners from a ChArUco board using the detected Aruco markers\n",
    "    interpolatedCorners = cv2.aruco.interpolateCornersCharuco(corners, ids, grayFrame, board)\n",
    "    if interpolatedCorners[1] is not None and interpolatedCorners[2] is not None and len(interpolatedCorners[1]>3) and decimator%1==0:\n",
    "        allCorners.append(interpolatedCorners[1])\n",
    "        allIds.append(interpolatedCorners[2])\n",
    "    decimator += 1\n",
    "\n",
    "imageCorners = np.array(allCorners)            \n",
    "outputImage = cv2.aruco.drawDetectedCornersCharuco(grayFrame, allCorners, allIds)\n",
    "'''"
   ]
  },
  {
   "cell_type": "code",
   "execution_count": 42,
   "id": "d46a0bbe",
   "metadata": {},
   "outputs": [
    {
     "name": "stdout",
     "output_type": "stream",
     "text": [
      "Help on built-in function interpolateCornersCharuco:\n",
      "\n",
      "interpolateCornersCharuco(...)\n",
      "    interpolateCornersCharuco(markerCorners, markerIds, image, board[, charucoCorners[, charucoIds[, cameraMatrix[, distCoeffs[, minMarkers]]]]]) -> retval, charucoCorners, charucoIds\n",
      "    .   * @brief Interpolate position of ChArUco board corners\n",
      "    .    * @param markerCorners vector of already detected markers corners. For each marker, its four\n",
      "    .    * corners are provided, (e.g std::vector<std::vector<cv::Point2f> > ). For N detected markers, the\n",
      "    .    * dimensions of this array should be Nx4. The order of the corners should be clockwise.\n",
      "    .    * @param markerIds list of identifiers for each marker in corners\n",
      "    .    * @param image input image necesary for corner refinement. Note that markers are not detected and\n",
      "    .    * should be sent in corners and ids parameters.\n",
      "    .    * @param board layout of ChArUco board.\n",
      "    .    * @param charucoCorners interpolated chessboard corners\n",
      "    .    * @param charucoIds interpolated chessboard corners identifiers\n",
      "    .    * @param cameraMatrix optional 3x3 floating-point camera matrix\n",
      "    .    * \\f$A = \\vecthreethree{f_x}{0}{c_x}{0}{f_y}{c_y}{0}{0}{1}\\f$\n",
      "    .    * @param distCoeffs optional vector of distortion coefficients\n",
      "    .    * \\f$(k_1, k_2, p_1, p_2[, k_3[, k_4, k_5, k_6],[s_1, s_2, s_3, s_4]])\\f$ of 4, 5, 8 or 12 elements\n",
      "    .    * @param minMarkers number of adjacent markers that must be detected to return a charuco corner\n",
      "    .    *\n",
      "    .    * This function receives the detected markers and returns the 2D position of the chessboard corners\n",
      "    .    * from a ChArUco board using the detected Aruco markers. If camera parameters are provided,\n",
      "    .    * the process is based in an approximated pose estimation, else it is based on local homography.\n",
      "    .    * Only visible corners are returned. For each corner, its corresponding identifier is\n",
      "    .    * also returned in charucoIds.\n",
      "    .    * The function returns the number of interpolated corners.\n",
      "\n"
     ]
    }
   ],
   "source": [
    "help(cv2.aruco.interpolateCornersCharuco)"
   ]
  }
 ],
 "metadata": {
  "kernelspec": {
   "display_name": "Python 3 (ipykernel)",
   "language": "python",
   "name": "python3"
  },
  "language_info": {
   "codemirror_mode": {
    "name": "ipython",
    "version": 3
   },
   "file_extension": ".py",
   "mimetype": "text/x-python",
   "name": "python",
   "nbconvert_exporter": "python",
   "pygments_lexer": "ipython3",
   "version": "3.9.7"
  }
 },
 "nbformat": 4,
 "nbformat_minor": 5
}
