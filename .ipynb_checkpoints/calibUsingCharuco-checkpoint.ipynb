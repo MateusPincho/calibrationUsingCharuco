{
 "cells": [
  {
   "cell_type": "markdown",
   "id": "421f1550",
   "metadata": {},
   "source": [
    "## Configure the code\n",
    "- Import the libraries and configure the directory "
   ]
  },
  {
   "cell_type": "code",
   "execution_count": 13,
   "id": "e5c95779",
   "metadata": {},
   "outputs": [],
   "source": [
    "import glob\n",
    "import cv2 \n",
    "from cv2 import aruco \n",
    "import numpy\n",
    "import matplotlib.pyplot as plt\n",
    "import matplotlib as mpl\n",
    "\n",
    "arucoDict = cv2.aruco.Dictionary_get(aruco.DICT_6X6_250)"
   ]
  },
  {
   "cell_type": "markdown",
   "id": "cc67e64a",
   "metadata": {},
   "source": [
    "## Create the Charuco board"
   ]
  },
  {
   "cell_type": "code",
   "execution_count": 16,
   "id": "95a3d62b",
   "metadata": {
    "scrolled": true
   },
   "outputs": [
    {
     "data": {
      "image/png": "[encoded data removed]",
      "text/plain": [
       "<Figure size 432x288 with 1 Axes>"
      ]
     },
     "metadata": {
      "needs_background": "light"
     },
     "output_type": "display_data"
    },
    {
     "data": {
      "text/plain": [
       "True"
      ]
     },
     "execution_count": 16,
     "metadata": {},
     "output_type": "execute_result"
    }
   ],
   "source": [
    "board = aruco.CharucoBoard_create(11, 8, 1, .8, arucoDict)\n",
    "myboard = board.draw((2000, 2000))\n",
    "\n",
    "#Show the board\n",
    "fig = plt.figure()\n",
    "ax = fig.add_subplot(1,1,1)\n",
    "plt.imshow(myboard, cmap = mpl.cm.gray, interpolation = \"nearest\")\n",
    "ax.axis(\"off\")\n",
    "plt.show()\n",
    "\n",
    "#Save the board\n",
    "#cv2.imwrite(\"charuco.tiff\", myboard)"
   ]
  },
  {
   "cell_type": "markdown",
   "id": "44421618",
   "metadata": {},
   "source": [
    "## After create the image, we need to take pictures of it\n",
    "- Make sure that you take a lot of images with differents angles\n",
    "- I"
   ]
  }
 ],
 "metadata": {
  "kernelspec": {
   "display_name": "Python 3 (ipykernel)",
   "language": "python",
   "name": "python3"
  },
  "language_info": {
   "codemirror_mode": {
    "name": "ipython",
    "version": 3
   },
   "file_extension": ".py",
   "mimetype": "text/x-python",
   "name": "python",
   "nbconvert_exporter": "python",
   "pygments_lexer": "ipython3",
   "version": "3.9.7"
  }
 },
 "nbformat": 4,
 "nbformat_minor": 5
}
